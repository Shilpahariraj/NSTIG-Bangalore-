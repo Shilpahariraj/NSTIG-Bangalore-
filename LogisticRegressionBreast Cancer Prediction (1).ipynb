{
 "cells": [
  {
   "cell_type": "markdown",
   "id": "4d740970-fe0e-4a02-95ee-27548934c98f",
   "metadata": {},
   "source": [
    "Logistic Regression (for predicting categorical outcomes)"
   ]
  },
  {
   "cell_type": "code",
   "execution_count": 1,
   "id": "c613bc0d-a14a-483d-99bc-87ccd86405ae",
   "metadata": {},
   "outputs": [
    {
     "data": {
      "image/png": "[encoded data removed]",
      "text/plain": [
       "<Figure size 640x480 with 2 Axes>"
      ]
     },
     "metadata": {},
     "output_type": "display_data"
    }
   ],
   "source": [
    "# Dataset: Breast Cancer Prediction (binary classification)\n",
    "import numpy as np\n",
    "import pandas as pd\n",
    "import matplotlib.pyplot as plt\n",
    "import seaborn as sns\n",
    "from sklearn.datasets import load_breast_cancer\n",
    "from sklearn.model_selection import train_test_split\n",
    "from sklearn.linear_model import LinearRegression, LogisticRegression\n",
    "from sklearn.metrics import mean_absolute_error, mean_squared_error, r2_score, accuracy_score, precision_score, recall_score, confusion_matrix, classification_report\n",
    "\n",
    "\n",
    "\n",
    "\n",
    "\n",
    "# Load data\n",
    "cancer = load_breast_cancer()\n",
    "X = pd.DataFrame(cancer.data, columns=cancer.feature_names)\n",
    "y = pd.Series(cancer.target)\n",
    "\n",
    "# print(X.head())\n",
    "# print(y.head())\n",
    "\n",
    "# Split data\n",
    "X_train, X_test, y_train, y_test = train_test_split(X, y, test_size=0.2, random_state=42)\n",
    "\n",
    "# Create Logistic Regression model\n",
    "log_reg = LogisticRegression(max_iter=10000)\n",
    "log_reg.fit(X_train, y_train)\n",
    "\n",
    "# Predict\n",
    "y_pred = log_reg.predict(X_test)\n",
    "# Confusion Matrix\n",
    "sns.heatmap(confusion_matrix(y_test, y_pred), annot=True, fmt='d')\n",
    "plt.title('Confusion Matrix')\n",
    "plt.show()"
   ]
  },
  {
   "cell_type": "markdown",
   "id": "aadb6bac-b5f4-47cb-987c-dd81ff1ec0cc",
   "metadata": {},
   "source": [
    "Model Evaluation Metrics (Logistic Regression)¶\n",
    "=====================================\n",
    "For Logistic Regression:\n",
    "\n",
    "- Accuracy\n",
    "How many values are predicted correctly Accuracy = (TP + TN)/(TP+TN+FP+FN) Higher accuracy means a better model\n",
    "\n",
    "- Precision\n",
    "How many predicted positives were actually correct? Precision = TP / (TP + FP)\n",
    "\n",
    "High Precision = few false alarms. Good for spam detection (don’t want to classify real emails as spam).\n",
    "\n",
    "- Recall (Sensitivity / True Positive Rate)\n",
    "How many actual positives did we catch? Recall = TP / (TP + FN) High Recall = few missed actual positives. Good for medical tests (you don't want to miss any sick patients).\n",
    "\n",
    "- F1 Score\n",
    "Balance between precision and recall (harmonic mean) F1 Score = 2 (Precision Recall) / (Precision + Recall) Useful when classes are imbalanced. F1 = 1 is perfect. F1 = 0 is worst.\n",
    "\n",
    "Confusion Matrix¶\n",
    "All this is in a confusion matrix, contains all types of prediction results"
   ]
  },
  {
   "cell_type": "markdown",
   "id": "3fa683f2-5414-40bb-bd6c-e23310bf39e5",
   "metadata": {},
   "source": [
    "What is the Cost Function in Logistic Regression?¶\n",
    "=========================\n",
    "Unlike Linear Regression, Logistic Regression uses Log Loss (Cross-Entropy Loss).\n",
    "\n",
    "Cost = -(1/n) sum( ylog(y_pred) + (1-y)*log(1-y_pred) )\n",
    "\n",
    "Again, the goal is to minimize this cost! And we use gradient descent algorithm for it"
   ]
  },
  {
   "cell_type": "code",
   "execution_count": 8,
   "id": "d247cd4e-fbbb-456c-941c-d9b38985cee6",
   "metadata": {},
   "outputs": [
    {
     "name": "stdout",
     "output_type": "stream",
     "text": [
      "Accuracy: 0.956140350877193\n",
      "Precision: 0.9459459459459459\n",
      "Recall: 0.9859154929577465\n",
      "F1 Score: 0.9655172413793103\n"
     ]
    }
   ],
   "source": [
    "# Evaluate\n",
    "print(\"Accuracy:\", accuracy_score(y_test, y_pred))\n",
    "print(\"Precision:\", precision_score(y_test, y_pred))\n",
    "print(\"Recall:\", recall_score(y_test, y_pred))\n",
    "print(\"F1 Score:\", (2 * precision_score(y_test, y_pred) * recall_score(y_test, y_pred)) / (precision_score(y_test, y_pred) + recall_score(y_test, y_pred)))"
   ]
  },
  {
   "cell_type": "code",
   "execution_count": null,
   "id": "3f98c6cd-1f9a-4a06-a657-d19f0c146567",
   "metadata": {},
   "outputs": [],
   "source": []
  }
 ],
 "metadata": {
  "kernelspec": {
   "display_name": "Python 3 (ipykernel)",
   "language": "python",
   "name": "python3"
  },
  "language_info": {
   "codemirror_mode": {
    "name": "ipython",
    "version": 3
   },
   "file_extension": ".py",
   "mimetype": "text/x-python",
   "name": "python",
   "nbconvert_exporter": "python",
   "pygments_lexer": "ipython3",
   "version": "3.12.7"
  }
 },
 "nbformat": 4,
 "nbformat_minor": 5
}
