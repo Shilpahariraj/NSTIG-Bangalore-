{
 "cells": [
  {
   "cell_type": "markdown",
   "id": "fabbb9d0-c74f-4ced-a5a7-1deb1692b932",
   "metadata": {},
   "source": [
    "Scrape IMDB movie rating and details using Python"
   ]
  },
  {
   "cell_type": "code",
   "execution_count": 8,
   "id": "8395c275-8954-4ffb-b2db-10dbe72fd1e9",
   "metadata": {},
   "outputs": [
    {
     "name": "stdout",
     "output_type": "stream",
     "text": [
      "Requirement already satisfied: IMDbPY in c:\\users\\prate\\anaconda3\\lib\\site-packages (2022.7.9)\n",
      "Requirement already satisfied: cinemagoer in c:\\users\\prate\\anaconda3\\lib\\site-packages (from IMDbPY) (2023.5.1)\n",
      "Requirement already satisfied: SQLAlchemy in c:\\users\\prate\\anaconda3\\lib\\site-packages (from cinemagoer->IMDbPY) (2.0.34)\n",
      "Requirement already satisfied: lxml in c:\\users\\prate\\anaconda3\\lib\\site-packages (from cinemagoer->IMDbPY) (5.2.1)\n",
      "Requirement already satisfied: typing-extensions>=4.6.0 in c:\\users\\prate\\anaconda3\\lib\\site-packages (from SQLAlchemy->cinemagoer->IMDbPY) (4.11.0)\n",
      "Requirement already satisfied: greenlet!=0.4.17 in c:\\users\\prate\\anaconda3\\lib\\site-packages (from SQLAlchemy->cinemagoer->IMDbPY) (3.0.1)\n"
     ]
    }
   ],
   "source": [
    "!pip install IMDbPY\n"
   ]
  },
  {
   "cell_type": "code",
   "execution_count": 11,
   "id": "c2764cee-0fc1-4569-8eb2-65f7f844e751",
   "metadata": {},
   "outputs": [],
   "source": [
    "from imdb import Cinemagoer\n",
    "import tkinter as tk\n",
    "from tkinter import ttk\n",
    "\n",
    "# Fetch data\n",
    "ia = Cinemagoer()\n",
    "top_movies = ia.get_top250_movies()\n",
    "\n",
    "# Extract top 10 movies' info\n",
    "movie_data = []\n",
    "for index, movie in enumerate(top_movies[:10], start=1):\n",
    "    title = movie.get('title', 'Unknown')\n",
    "    year = movie.get('year', 'N/A')\n",
    "    movie_data.append((index, title, year))\n",
    "\n",
    "# GUI setup\n",
    "root = tk.Tk()\n",
    "root.title(\"IMDb Top 10 Movies\")\n",
    "root.geometry(\"500x400\")\n",
    "root.configure(bg=\"#f0f0f0\")\n",
    "\n",
    "style = ttk.Style()\n",
    "style.theme_use(\"clam\")\n",
    "style.configure(\"Treeview\", background=\"#ffffff\", foreground=\"#000000\", rowheight=30, fieldbackground=\"#ffffff\", font=(\"Segoe UI\", 12))\n",
    "style.configure(\"Treeview.Heading\", font=(\"Segoe UI\", 14, \"bold\"), background=\"#e67e22\", foreground=\"#ffffff\")\n",
    "style.map(\"Treeview\", background=[('selected', '#f39c12')])\n",
    "\n",
    "# Title label\n",
    "title_label = tk.Label(root, text=\"Top 10 IMDb Movies\", font=(\"Segoe UI\", 18, \"bold\"), bg=\"#f0f0f0\", fg=\"#2c3e50\")\n",
    "title_label.pack(pady=20)\n",
    "\n",
    "# Treeview (table)\n",
    "columns = (\"Rank\", \"Title\", \"Year\")\n",
    "tree = ttk.Treeview(root, columns=columns, show=\"headings\", height=10)\n",
    "for col in columns:\n",
    "    tree.heading(col, text=col)\n",
    "    tree.column(col, width=150 if col != \"Title\" else 250, anchor=\"center\")\n",
    "tree.pack(padx=10, pady=10)\n",
    "\n",
    "# Insert movie data\n",
    "for movie in movie_data:\n",
    "    tree.insert(\"\", tk.END, values=movie)\n",
    "\n",
    "# Run the GUI\n",
    "root.mainloop()\n"
   ]
  },
  {
   "cell_type": "code",
   "execution_count": null,
   "id": "886e9a1b-5669-40c8-8212-5e93997d58af",
   "metadata": {},
   "outputs": [],
   "source": []
  }
 ],
 "metadata": {
  "kernelspec": {
   "display_name": "Python 3 (ipykernel)",
   "language": "python",
   "name": "python3"
  },
  "language_info": {
   "codemirror_mode": {
    "name": "ipython",
    "version": 3
   },
   "file_extension": ".py",
   "mimetype": "text/x-python",
   "name": "python",
   "nbconvert_exporter": "python",
   "pygments_lexer": "ipython3",
   "version": "3.12.7"
  }
 },
 "nbformat": 4,
 "nbformat_minor": 5
}
