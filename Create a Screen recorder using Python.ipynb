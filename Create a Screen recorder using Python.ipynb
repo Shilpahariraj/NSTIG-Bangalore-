{
 "cells": [
  {
   "cell_type": "code",
   "execution_count": null,
   "id": "616356cb-04b7-49f4-abc1-085491f54bca",
   "metadata": {},
   "outputs": [],
   "source": []
  },
  {
   "cell_type": "code",
   "execution_count": null,
   "id": "214360b8-3f21-4ba8-bdd6-174057a9009e",
   "metadata": {},
   "outputs": [],
   "source": []
  },
  {
   "cell_type": "code",
   "execution_count": null,
   "id": "6eaecb3e-77b2-4a2f-ac56-b72f9fc18614",
   "metadata": {},
   "outputs": [],
   "source": [
    "pip install numpy"
   ]
  },
  {
   "cell_type": "code",
   "execution_count": null,
   "id": "be564e99-18b9-4079-b9a7-c331c7f2b146",
   "metadata": {},
   "outputs": [],
   "source": [
    "pip install pyautogui"
   ]
  },
  {
   "cell_type": "code",
   "execution_count": null,
   "id": "1b833a5e-1b17-40e6-a388-8f2954bc1fd5",
   "metadata": {},
   "outputs": [],
   "source": [
    "pip install opencv-python"
   ]
  },
  {
   "cell_type": "code",
   "execution_count": null,
   "id": "ab376e37-c17b-41fa-85b1-b4f6ee9cbbab",
   "metadata": {},
   "outputs": [],
   "source": [
    "# importing the required packages\n",
    "import pyautogui\n",
    "import cv2\n",
    "import numpy as np\n",
    "\n",
    "# Specify resolution\n",
    "resolution = (1920, 1080)\n",
    "\n",
    "# Specify video codec\n",
    "codec = cv2.VideoWriter_fourcc(*\"XVID\")\n",
    "\n",
    "# Specify name of Output file\n",
    "filename = \"Recording.avi\"\n",
    "\n",
    "# Specify frames rate. We can choose any \n",
    "# value and experiment with it\n",
    "fps = 60.0\n",
    "\n",
    "\n",
    "# Creating a VideoWriter object\n",
    "out = cv2.VideoWriter(filename, codec, fps, resolution)\n",
    "\n",
    "# Create an Empty window\n",
    "cv2.namedWindow(\"Live\", cv2.WINDOW_NORMAL)\n",
    "\n",
    "# Resize this window\n",
    "cv2.resizeWindow(\"Live\", 480, 270)\n",
    "\n",
    "while True:\n",
    "\t# Take screenshot using PyAutoGUI\n",
    "\timg = pyautogui.screenshot()\n",
    "\n",
    "\t# Convert the screenshot to a numpy array\n",
    "\tframe = np.array(img)\n",
    "\n",
    "\t# Convert it from BGR(Blue, Green, Red) to\n",
    "\t# RGB(Red, Green, Blue)\n",
    "\tframe = cv2.cvtColor(frame, cv2.COLOR_BGR2RGB)\n",
    "\n",
    "\t# Write it to the output file\n",
    "\tout.write(frame)\n",
    "\t\n",
    "\t# Optional: Display the recording screen\n",
    "\tcv2.imshow('Live', frame)\n",
    "\t\n",
    "\t# Stop recording when we press 'q'\n",
    "\tif cv2.waitKey(1) == ord('q'):\n",
    "\t\tbreak\n",
    "\n",
    "# Release the Video writer\n",
    "out.release()\n",
    "\n",
    "# Destroy all windows\n",
    "cv2.destroyAllWindows()\n"
   ]
  },
  {
   "cell_type": "code",
   "execution_count": null,
   "id": "8ac693a8-6f2c-45bf-976b-d670ef064f97",
   "metadata": {},
   "outputs": [],
   "source": []
  }
 ],
 "metadata": {
  "kernelspec": {
   "display_name": "Python 3 (ipykernel)",
   "language": "python",
   "name": "python3"
  },
  "language_info": {
   "codemirror_mode": {
    "name": "ipython",
    "version": 3
   },
   "file_extension": ".py",
   "mimetype": "text/x-python",
   "name": "python",
   "nbconvert_exporter": "python",
   "pygments_lexer": "ipython3",
   "version": "3.12.7"
  }
 },
 "nbformat": 4,
 "nbformat_minor": 5
}
