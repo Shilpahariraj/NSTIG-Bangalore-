{
 "cells": [
  {
   "cell_type": "markdown",
   "id": "2552a141-5ed5-4add-8202-6de0e36986d3",
   "metadata": {},
   "source": [
    "Live Weather Desktop Notifications Using Python"
   ]
  },
  {
   "cell_type": "code",
   "execution_count": 1,
   "id": "4159f8e6-bbb8-4937-9c46-8b36b9c4ce6f",
   "metadata": {},
   "outputs": [
    {
     "name": "stdout",
     "output_type": "stream",
     "text": [
      "Requirement already satisfied: bs4 in c:\\users\\prate\\anaconda3\\lib\\site-packages (0.0.2)\n",
      "Requirement already satisfied: beautifulsoup4 in c:\\users\\prate\\anaconda3\\lib\\site-packages (from bs4) (4.12.3)\n",
      "Requirement already satisfied: soupsieve>1.2 in c:\\users\\prate\\anaconda3\\lib\\site-packages (from beautifulsoup4->bs4) (2.5)\n",
      "Note: you may need to restart the kernel to use updated packages.\n"
     ]
    }
   ],
   "source": [
    "pip install bs4"
   ]
  },
  {
   "cell_type": "code",
   "execution_count": 2,
   "id": "fc952700-e1dc-4945-9100-57df78ee12fe",
   "metadata": {},
   "outputs": [
    {
     "name": "stdout",
     "output_type": "stream",
     "text": [
      "Requirement already satisfied: win10toast in c:\\users\\prate\\anaconda3\\lib\\site-packages (0.9)\n",
      "Requirement already satisfied: pypiwin32 in c:\\users\\prate\\anaconda3\\lib\\site-packages (from win10toast) (223)\n",
      "Requirement already satisfied: setuptools in c:\\users\\prate\\anaconda3\\lib\\site-packages (from win10toast) (75.1.0)\n",
      "Requirement already satisfied: pywin32>=223 in c:\\users\\prate\\anaconda3\\lib\\site-packages (from pypiwin32->win10toast) (305.1)\n",
      "Note: you may need to restart the kernel to use updated packages.\n"
     ]
    }
   ],
   "source": [
    "pip install win10toast"
   ]
  },
  {
   "cell_type": "code",
   "execution_count": 3,
   "id": "cb24f6bf-8be6-4299-86ba-df2767fa91e3",
   "metadata": {
    "scrolled": true
   },
   "outputs": [
    {
     "name": "stdout",
     "output_type": "stream",
     "text": [
      "Requirement already satisfied: requests in c:\\users\\prate\\anaconda3\\lib\\site-packages (2.32.3)\n",
      "Requirement already satisfied: charset-normalizer<4,>=2 in c:\\users\\prate\\anaconda3\\lib\\site-packages (from requests) (3.3.2)\n",
      "Requirement already satisfied: idna<4,>=2.5 in c:\\users\\prate\\anaconda3\\lib\\site-packages (from requests) (3.7)\n",
      "Requirement already satisfied: urllib3<3,>=1.21.1 in c:\\users\\prate\\anaconda3\\lib\\site-packages (from requests) (2.2.3)\n",
      "Requirement already satisfied: certifi>=2017.4.17 in c:\\users\\prate\\anaconda3\\lib\\site-packages (from requests) (2024.8.30)\n",
      "Note: you may need to restart the kernel to use updated packages.\n"
     ]
    }
   ],
   "source": [
    "pip install requests"
   ]
  },
  {
   "cell_type": "code",
   "execution_count": 7,
   "id": "14f36b6a-e916-4f35-a664-e37291e6b79d",
   "metadata": {},
   "outputs": [
    {
     "name": "stderr",
     "output_type": "stream",
     "text": [
      "ERROR:root:Some trouble with the icon (C:\\Users\\prate\\weather.ico): (2, 'LoadImage', 'The system cannot find the file specified.')\n",
      "WNDPROC return value cannot be converted to LRESULT\n"
     ]
    },
    {
     "ename": "TypeError",
     "evalue": "WPARAM is simple, so must be an int object (got NoneType)",
     "output_type": "error",
     "traceback": [
      "\u001b[1;31m---------------------------------------------------------------------------\u001b[0m",
      "\u001b[1;31mTypeError\u001b[0m                                 Traceback (most recent call last)",
      "\u001b[1;31mTypeError\u001b[0m: WPARAM is simple, so must be an int object (got NoneType)"
     ]
    }
   ],
   "source": [
    "from win10toast import ToastNotifier\n",
    "import requests\n",
    "\n",
    "API_KEY = \"959ac3702275cf0fe57d468d13633cb9\"\n",
    "latitude = 26.11765\n",
    "longitude = 74.32011\n",
    "\n",
    "# Create desktop notifier\n",
    "n = ToastNotifier()\n",
    "\n",
    "try:\n",
    "    url = f\"https://api.openweathermap.org/data/2.5/weather?lat={latitude}&lon={longitude}&appid={API_KEY}&units=metric\"\n",
    "    response = requests.get(url)\n",
    "    data = response.json()\n",
    "\n",
    "    if response.status_code != 200:\n",
    "        raise Exception(data.get(\"message\", \"Unknown error\"))\n",
    "\n",
    "    temp = data['main']['temp']\n",
    "    description = data['weather'][0]['description'].capitalize()\n",
    "    rain = data.get('rain', {}).get('1h', '0 mm')\n",
    "\n",
    "    # 🔔 Format message with emojis\n",
    "    result = (\n",
    "        f\"📍 Location: Jaipur\\n\"\n",
    "        f\"🌡️ Temperature: {temp}°C\\n\"\n",
    "        f\"☁️ Condition: {description}\\n\"\n",
    "        f\"🌧️ Rain (1h): {rain}\"\n",
    "    )\n",
    "\n",
    "    # Show notification with optional icon\n",
    "    n.show_toast(\"🌈 Weather Whiz – Jaipur Forecast\", result, icon_path=\"weather.ico\", duration=10)\n",
    "\n",
    "except Exception as e:\n",
    "    n.show_toast(\"❌ Weather Fetch Error\", f\"⚠️ {str(e)}\", duration=10)\n"
   ]
  },
  {
   "cell_type": "code",
   "execution_count": null,
   "id": "5849a568-025e-4cee-8672-c6ac96c6ca97",
   "metadata": {},
   "outputs": [],
   "source": []
  },
  {
   "cell_type": "code",
   "execution_count": null,
   "id": "47e33b58-02db-45c1-8bec-a09614130119",
   "metadata": {},
   "outputs": [],
   "source": []
  },
  {
   "cell_type": "code",
   "execution_count": null,
   "id": "bcb6fd62-6f9b-4d09-b650-d4d0d2730dda",
   "metadata": {},
   "outputs": [],
   "source": []
  }
 ],
 "metadata": {
  "kernelspec": {
   "display_name": "Python 3 (ipykernel)",
   "language": "python",
   "name": "python3"
  },
  "language_info": {
   "codemirror_mode": {
    "name": "ipython",
    "version": 3
   },
   "file_extension": ".py",
   "mimetype": "text/x-python",
   "name": "python",
   "nbconvert_exporter": "python",
   "pygments_lexer": "ipython3",
   "version": "3.12.7"
  }
 },
 "nbformat": 4,
 "nbformat_minor": 5
}
