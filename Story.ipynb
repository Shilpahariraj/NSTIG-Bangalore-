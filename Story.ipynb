{
 "cells": [
  {
   "cell_type": "markdown",
   "id": "8a931bdb-c72b-4143-b550-a1be0dcd4626",
   "metadata": {},
   "source": [
    "# Telling Fanny story using English grammar"
   ]
  },
  {
   "cell_type": "code",
   "execution_count": 4,
   "id": "a635de4d-71bd-4c3f-8dbc-44b15e0dd796",
   "metadata": {},
   "outputs": [],
   "source": [
    "import tkinter as tk\n",
    "from tkinter import messagebox\n",
    "from PIL import Image, ImageTk, ImageSequence\n",
    "import threading\n",
    "import pyttsx3\n",
    "\n",
    "# Initialize the speech engine\n",
    "engine = pyttsx3.init()\n",
    "\n",
    "# Function to speak text using pyttsx3 in background\n",
    "def speak_text(text):\n",
    "    def run():\n",
    "        engine.say(text)\n",
    "        engine.runAndWait()\n",
    "    threading.Thread(target=run).start()\n",
    "\n",
    "# Function to generate the story\n",
    "def generate_story():\n",
    "    noun = noun_entry.get()\n",
    "    adjective = adjective_entry.get()\n",
    "    verb = verb_entry.get()\n",
    "    place = place_entry.get()\n",
    "    person = person_entry.get()\n",
    "\n",
    "    if not all([noun, adjective, verb, place, person]):\n",
    "        speak_text(\"Please fill in all fields.\")\n",
    "        messagebox.showwarning(\"Input Error\", \"Please fill in all fields!\")\n",
    "        return\n",
    "\n",
    "    story = f\"\"\"\n",
    "    Today I saw a {noun} that was very {adjective}.\n",
    "    I immediately {verb} it and then went to {place}.\n",
    "    There I met {person}, and we had a lot of fun together!\n",
    "    \"\"\"\n",
    "\n",
    "    story_output.config(state=\"normal\")\n",
    "    story_output.delete(1.0, tk.END)\n",
    "    story_output.insert(tk.END, story)\n",
    "    story_output.config(state=\"disabled\")\n",
    "\n",
    "    # Speak the generated story\n",
    "    speak_text(story)\n",
    "\n",
    "# Animate GIF frames\n",
    "def animate(counter):\n",
    "    animation_label.config(image=gif_frames[counter])\n",
    "    root.after(100, lambda: animate((counter + 1) % len(gif_frames)))\n",
    "\n",
    "# Create GUI window\n",
    "root = tk.Tk()\n",
    "root.title(\"Mad Libs Generator with Cartoon - Funny Story\")\n",
    "root.geometry(\"450x800\")\n",
    "\n",
    "# Load GIF and keep reference to frames\n",
    "gif = Image.open(\"monkey image.gif\")\n",
    "gif_frames = [ImageTk.PhotoImage(frame.copy().convert(\"RGBA\")) for frame in ImageSequence.Iterator(gif)]\n",
    "\n",
    "# Animation label\n",
    "animation_label = tk.Label(root)\n",
    "animation_label.pack()\n",
    "root.after(0, lambda: animate(0))\n",
    "\n",
    "# Input fields\n",
    "tk.Label(root, text=\"Noun:\").pack()\n",
    "noun_entry = tk.Entry(root, width=40)\n",
    "noun_entry.pack()\n",
    "\n",
    "tk.Label(root, text=\"Adjective:\").pack()\n",
    "adjective_entry = tk.Entry(root, width=40)\n",
    "adjective_entry.pack()\n",
    "\n",
    "tk.Label(root, text=\"Verb:\").pack()\n",
    "verb_entry = tk.Entry(root, width=40)\n",
    "verb_entry.pack()\n",
    "\n",
    "tk.Label(root, text=\"Place:\").pack()\n",
    "place_entry = tk.Entry(root, width=40)\n",
    "place_entry.pack()\n",
    "\n",
    "tk.Label(root, text=\"Person's Name:\").pack()\n",
    "person_entry = tk.Entry(root, width=40)\n",
    "person_entry.pack()\n",
    "\n",
    "# Button to generate story\n",
    "tk.Button(root, text=\"Generate Story\", command=generate_story, bg=\"lightblue\").pack(pady=10)\n",
    "\n",
    "# Output text area\n",
    "story_output = tk.Text(root, height=8, width=58, wrap=\"word\", state=\"disabled\")\n",
    "story_output.pack(pady=10)\n",
    "\n",
    "# Start GUI loop\n",
    "root.mainloop()\n"
   ]
  },
  {
   "cell_type": "code",
   "execution_count": 3,
   "id": "ee6af296-9abb-4954-9db2-abd037bd1f3a",
   "metadata": {},
   "outputs": [
    {
     "name": "stdout",
     "output_type": "stream",
     "text": [
      "Collecting pyttsx3\n",
      "  Downloading pyttsx3-2.98-py3-none-any.whl.metadata (3.8 kB)\n",
      "Collecting comtypes (from pyttsx3)\n",
      "  Downloading comtypes-1.4.11-py3-none-any.whl.metadata (7.2 kB)\n",
      "Requirement already satisfied: pypiwin32 in c:\\users\\aneet\\anaconda3\\lib\\site-packages (from pyttsx3) (223)\n",
      "Requirement already satisfied: pywin32 in c:\\users\\aneet\\anaconda3\\lib\\site-packages (from pyttsx3) (305.1)\n",
      "Downloading pyttsx3-2.98-py3-none-any.whl (34 kB)\n",
      "Downloading comtypes-1.4.11-py3-none-any.whl (246 kB)\n",
      "Installing collected packages: comtypes, pyttsx3\n",
      "Successfully installed comtypes-1.4.11 pyttsx3-2.98\n"
     ]
    }
   ],
   "source": [
    "! pip install pyttsx3\n"
   ]
  },
  {
   "cell_type": "code",
   "execution_count": null,
   "id": "c3f3ac12-3d7a-4916-99e5-dac78bfbd929",
   "metadata": {},
   "outputs": [],
   "source": []
  }
 ],
 "metadata": {
  "kernelspec": {
   "display_name": "Python 3 (ipykernel)",
   "language": "python",
   "name": "python3"
  },
  "language_info": {
   "codemirror_mode": {
    "name": "ipython",
    "version": 3
   },
   "file_extension": ".py",
   "mimetype": "text/x-python",
   "name": "python",
   "nbconvert_exporter": "python",
   "pygments_lexer": "ipython3",
   "version": "3.12.7"
  }
 },
 "nbformat": 4,
 "nbformat_minor": 5
}
