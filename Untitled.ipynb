{
 "cells": [
  {
   "cell_type": "code",
   "execution_count": 1,
   "id": "8a994b11-f6a6-4316-bd0f-b5e15df7088c",
   "metadata": {},
   "outputs": [
    {
     "name": "stdout",
     "output_type": "stream",
     "text": [
      "Requirement already satisfied: mysql-connector-python in c:\\users\\nstib\\anaconda3\\lib\\site-packages (9.2.0)\n"
     ]
    }
   ],
   "source": [
    "!pip install mysql-connector-python"
   ]
  },
  {
   "cell_type": "code",
   "execution_count": 11,
   "id": "a5947f76-c4b3-4cee-84e8-f45df1e9f9ee",
   "metadata": {},
   "outputs": [
    {
     "name": "stderr",
     "output_type": "stream",
     "text": [
      "2025-04-30 16:19:48.950 \n",
      "  \u001b[33m\u001b[1mWarning:\u001b[0m to view this Streamlit app on a browser, run it with the following\n",
      "  command:\n",
      "\n",
      "    streamlit run C:\\Users\\nstib\\anaconda3\\Lib\\site-packages\\ipykernel_launcher.py [ARGUMENTS]\n",
      "2025-04-30 16:19:48.950 Session state does not function when running a script without `streamlit run`\n"
     ]
    }
   ],
   "source": [
    "import streamlit as st\n",
    "import mysql.connector\n",
    "\n",
    "# Connect to MySQL\n",
    "conn = mysql.connector.connect(\n",
    "    host=\"localhost\",\n",
    "    user=\"root\",\n",
    "    password=\"Root@123\",\n",
    "    database=\"student_report_db\"\n",
    ")\n",
    "cursor = conn.cursor()\n",
    "\n",
    "# ------------------- Add Student -----------------------\n",
    "st.title(\"🎓 Student Report Card System\")\n",
    "\n",
    "menu = st.sidebar.selectbox(\"Select Option\", [\"Add Student\", \"Add/Update Marks\", \"View Report Card\"])\n",
    "\n",
    "if menu == \"Add Student\":\n",
    "    st.header(\"➕ Add Student\")\n",
    "    name = st.text_input(\"Name\")\n",
    "    age = st.number_input(\"Age\", min_value=1, max_value=100)\n",
    "    email = st.text_input(\"Email\")\n",
    "    if st.button(\"Add\"):\n",
    "        cursor.execute(\"INSERT INTO Students (name, age, email) VALUES (%s, %s, %s)\", (name, age, email))\n",
    "        conn.commit()\n",
    "        st.success(\"✅ Student added successfully!\")\n",
    "\n",
    "# ---------------- Add or Update Marks -----------------\n",
    "elif menu == \"Add/Update Marks\":\n",
    "    st.header(\"📝 Add or Update Marks\")\n",
    "    student_id = st.number_input(\"Student ID\", min_value=1)\n",
    "    subject_name = st.text_input(\"Subject Name\")\n",
    "    marks = st.number_input(\"Marks\", min_value=0.0, max_value=100.0)\n",
    "\n",
    "    if st.button(\"Save Marks\"):\n",
    "        # Check subject\n",
    "        cursor.execute(\"SELECT id FROM Subjects WHERE subject_name = %s\", (subject_name,))\n",
    "        subject = cursor.fetchone()\n",
    "        if subject:\n",
    "            subject_id = subject[0]\n",
    "        else:\n",
    "            cursor.execute(\"INSERT INTO Subjects (subject_name) VALUES (%s)\", (subject_name,))\n",
    "            conn.commit()\n",
    "            subject_id = cursor.lastrowid\n",
    "\n",
    "        # Check if marks exist\n",
    "        cursor.execute(\"SELECT id FROM Marks WHERE student_id = %s AND subject_id = %s\", (student_id, subject_id))\n",
    "        exists = cursor.fetchone()\n",
    "        if exists:\n",
    "            cursor.execute(\"UPDATE Marks SET marks_obtained = %s WHERE student_id = %s AND subject_id = %s\",\n",
    "                           (marks, student_id, subject_id))\n",
    "            st.info(\"🔄 Marks updated!\")\n",
    "        else:\n",
    "            cursor.execute(\"INSERT INTO Marks (student_id, subject_id, marks_obtained) VALUES (%s, %s, %s)\",\n",
    "                           (student_id, subject_id, marks))\n",
    "            st.success(\"✅ Marks added!\")\n",
    "        conn.commit()\n",
    "\n",
    "# ---------------- View Report Card --------------------\n",
    "elif menu == \"View Report Card\":\n",
    "    st.header(\"📄 View Report Card\")\n",
    "    sid = st.number_input(\"Enter Student ID\", min_value=1)\n",
    "    if st.button(\"Show Report\"):\n",
    "        cursor.execute(\"SELECT name, age, email FROM Students WHERE id = %s\", (sid,))\n",
    "        student = cursor.fetchone()\n",
    "\n",
    "        if student:\n",
    "            st.subheader(f\"Student Info: {student[0]} (Age: {student[1]}, Email: {student[2]})\")\n",
    "\n",
    "            cursor.execute(\"\"\"\n",
    "                SELECT sub.subject_name, m.marks_obtained\n",
    "                FROM Marks m\n",
    "                JOIN Subjects sub ON m.subject_id = sub.id\n",
    "                WHERE m.student_id = %s\n",
    "            \"\"\", (sid,))\n",
    "            results = cursor.fetchall()\n",
    "\n",
    "            if results:\n",
    "                total = 0\n",
    "                for sub in results:\n",
    "                    st.write(f\"📘 {sub[0]}: {sub[1]}\")\n",
    "                    total += sub[1]\n",
    "\n",
    "                avg = total / len(results)\n",
    "                if avg >= 90:\n",
    "                    grade = \"A+\"\n",
    "                elif avg >= 80:\n",
    "                    grade = \"A\"\n",
    "                elif avg >= 70:\n",
    "                    grade = \"B\"\n",
    "                elif avg >= 60:\n",
    "                    grade = \"C\"\n",
    "                else:\n",
    "                    grade = \"F\"\n",
    "\n",
    "                st.write(f\"**Average Marks**: {avg:.2f}\")\n",
    "                st.write(f\"**Grade**: 🏅 {grade}\")\n",
    "            else:\n",
    "                st.warning(\"No marks found for this student.\")\n",
    "        else:\n",
    "            st.error(\"Student not found.\")"
   ]
  },
  {
   "cell_type": "code",
   "execution_count": null,
   "id": "16fd7634-db63-4901-9c2b-f6327c02c50c",
   "metadata": {},
   "outputs": [],
   "source": []
  }
 ],
 "metadata": {
  "kernelspec": {
   "display_name": "Python 3 (ipykernel)",
   "language": "python",
   "name": "python3"
  },
  "language_info": {
   "codemirror_mode": {
    "name": "ipython",
    "version": 3
   },
   "file_extension": ".py",
   "mimetype": "text/x-python",
   "name": "python",
   "nbconvert_exporter": "python",
   "pygments_lexer": "ipython3",
   "version": "3.12.7"
  }
 },
 "nbformat": 4,
 "nbformat_minor": 5
}
