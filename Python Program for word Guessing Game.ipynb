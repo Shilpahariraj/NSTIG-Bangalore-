{
 "cells": [
  {
   "cell_type": "markdown",
   "id": "8dac33e3-f745-462c-9b82-9b2a5157e334",
   "metadata": {},
   "source": [
    "Word guessing Game in Python"
   ]
  },
  {
   "cell_type": "code",
   "execution_count": 1,
   "id": "0e47692a-fece-4954-b771-e478043eec7d",
   "metadata": {},
   "outputs": [
    {
     "name": "stdin",
     "output_type": "stream",
     "text": [
      "What is your name?  Payal\n"
     ]
    },
    {
     "name": "stdout",
     "output_type": "stream",
     "text": [
      "Good Luck !  Payal\n",
      "Guess the characters\n",
      "_\n",
      "_\n",
      "_\n",
      "_\n",
      "_\n",
      "\n"
     ]
    },
    {
     "name": "stdin",
     "output_type": "stream",
     "text": [
      "guess a character: python\n"
     ]
    },
    {
     "name": "stdout",
     "output_type": "stream",
     "text": [
      "Wrong\n",
      "You have 11 more guesses\n",
      "_\n",
      "_\n",
      "t _\n",
      "_\n",
      "\n"
     ]
    },
    {
     "name": "stdin",
     "output_type": "stream",
     "text": [
      "guess a character: mathematics\n"
     ]
    },
    {
     "name": "stdout",
     "output_type": "stream",
     "text": [
      "Wrong\n",
      "You have 10 more guesses\n",
      "_\n",
      "a t e _\n",
      "\n"
     ]
    },
    {
     "name": "stdin",
     "output_type": "stream",
     "text": [
      "guess a character: rainbow\n"
     ]
    },
    {
     "name": "stdout",
     "output_type": "stream",
     "text": [
      "Wrong\n",
      "You have 9 more guesses\n",
      "w a t e r You Win\n",
      "The word is:  water\n"
     ]
    }
   ],
   "source": [
    "import random\n",
    "\n",
    "name = input(\"What is your name? \")\n",
    "\n",
    "print(\"Good Luck ! \", name)\n",
    "\n",
    "words = ['rainbow', 'computer', 'science', 'programming',\n",
    "         'python', 'mathematics', 'player', 'condition',\n",
    "         'reverse', 'water', 'board']\n",
    "\n",
    "word = random.choice(words)\n",
    "\n",
    "print(\"Guess the characters\")\n",
    "\n",
    "guesses = ''\n",
    "turns = 12\n",
    "\n",
    "while turns > 0:\n",
    "\n",
    "    failed = 0\n",
    "\n",
    "    for char in word:\n",
    "\n",
    "        if char in guesses:\n",
    "            print(char, end=\" \")\n",
    "\n",
    "        else:\n",
    "            print(\"_\")\n",
    "            failed += 1\n",
    "\n",
    "    if failed == 0:\n",
    "        print(\"You Win\")\n",
    "        print(\"The word is: \", word)\n",
    "        break\n",
    "\n",
    "    print()\n",
    "    guess = input(\"guess a character:\")\n",
    "\n",
    "    guesses += guess\n",
    "\n",
    "    if guess not in word:\n",
    "\n",
    "        turns -= 1\n",
    "        print(\"Wrong\")\n",
    "        print(\"You have\", + turns, 'more guesses')\n",
    "\n",
    "        if turns == 0:\n",
    "            print(\"You Loose\")"
   ]
  },
  {
   "cell_type": "code",
   "execution_count": 26,
   "id": "3a8fc440-938a-4517-b6cb-3c399990a74b",
   "metadata": {},
   "outputs": [],
   "source": [
    "import tkinter as tk\n",
    "from tkinter import messagebox\n",
    "import random\n",
    "\n",
    "# Word list\n",
    "words = ['rainbow', 'computer', 'science', 'programming', 'python', 'mathematics', 'condition',\n",
    "         'reverse', 'water', 'board']\n",
    "word = random.choice(words)\n",
    "guesses = ''\n",
    "turns = 12\n",
    "\n",
    "def show_result(title, message, color):\n",
    "    result_win = tk.Toplevel(root)\n",
    "    result_win.title(title)\n",
    "    result_win.geometry(\"400x200\")\n",
    "    result_win.config(bg=\"#1D3557\")\n",
    "    result_win.grab_set()  # Make this window modal\n",
    "\n",
    "    label = tk.Label(result_win, text=title, font=(\"Verdana\", 24, \"bold\"), fg=color, bg=\"#1D3557\")\n",
    "    label.pack(pady=10)\n",
    "\n",
    "    msg = tk.Label(result_win, text=message, font=(\"Arial\", 14), fg=\"#F1FAEE\", bg=\"#1D3557\")\n",
    "    msg.pack(pady=10)\n",
    "\n",
    "    btn = tk.Button(result_win, text=\"Exit\", command=root.destroy, font=(\"Arial\", 14, \"bold\"),\n",
    "                    bg=\"#FF6B6B\", fg=\"white\", width=10)\n",
    "    btn.pack(pady=10)\n",
    "\n",
    "# Update the word display\n",
    "def update_display():\n",
    "    display_word = ''\n",
    "    failed = 0\n",
    "    for char in word:\n",
    "        if char in guesses:\n",
    "            display_word += f\"{char} \"\n",
    "        else:\n",
    "            display_word += \"_ \"\n",
    "            failed += 1\n",
    "\n",
    "    word_label.config(text=display_word.strip())\n",
    "\n",
    "    if failed == 0:\n",
    "        show_result(\"🎉 You Win!\", f\"The word was: {word}\", \"#06D6A0\")\n",
    "    elif turns == 0:\n",
    "        show_result(\"💀 Game Over\", f\"You ran out of guesses.\\nThe word was: {word}\", \"#EF476F\")\n",
    "\n",
    "# Handle guess\n",
    "def guess_char():\n",
    "    global guesses, turns\n",
    "    ch = entry.get().lower()\n",
    "    entry.delete(0, tk.END)\n",
    "\n",
    "    if ch and ch.isalpha() and ch not in guesses:\n",
    "        guesses += ch\n",
    "        if ch not in word:\n",
    "            turns -= 1\n",
    "            turns_label.config(text=f\"Turns left: {turns}\", fg=\"#F94144\")\n",
    "        else:\n",
    "            turns_label.config(fg=\"#43AA8B\")\n",
    "        update_display()\n",
    "\n",
    "# Hover effects for button\n",
    "def on_enter(e):\n",
    "    guess_btn.config(bg=\"#F77F00\", fg=\"white\")\n",
    "\n",
    "def on_leave(e):\n",
    "    guess_btn.config(bg=\"#FFB703\", fg=\"black\")\n",
    "\n",
    "# GUI setup\n",
    "root = tk.Tk()\n",
    "root.title(\"🌟 Word Guessing Game\")\n",
    "root.geometry(\"520x500\")\n",
    "root.config(bg=\"#1D3557\")  # Deep blue background\n",
    "\n",
    "title = tk.Label(root, text=\"🎯 Guess the Word!\", font=(\"Verdana\", 26, \"bold\"),\n",
    "                 bg=\"#1D3557\", fg=\"#F1FAEE\")\n",
    "title.pack(pady=25)\n",
    "\n",
    "word_label = tk.Label(root, text=\"\", font=(\"Courier New\", 34, \"bold\"),\n",
    "                      bg=\"#1D3557\", fg=\"#A8DADC\")\n",
    "word_label.pack(pady=20)\n",
    "\n",
    "entry = tk.Entry(root, font=(\"Arial\", 20), justify='center',\n",
    "                 bd=3, relief=\"solid\", bg=\"#F1FAEE\", fg=\"#1D3557\")\n",
    "entry.pack(ipadx=12, ipady=8, pady=12)\n",
    "\n",
    "guess_btn = tk.Button(root, text=\"🧐 Guess Letter\", command=guess_char,\n",
    "                      font=(\"Arial\", 18, \"bold\"), bg=\"#FFB703\", fg=\"#000000\",\n",
    "                      activebackground=\"#FB8500\", activeforeground=\"#FFF\",\n",
    "                      width=15, height=2)\n",
    "guess_btn.pack(pady=15)\n",
    "guess_btn.bind(\"<Enter>\", on_enter)\n",
    "guess_btn.bind(\"<Leave>\", on_leave)\n",
    "\n",
    "turns_label = tk.Label(root, text=f\"Turns left: {turns}\", font=(\"Arial\", 18, \"bold\"),\n",
    "                       bg=\"#1D3557\", fg=\"#43AA8B\")\n",
    "turns_label.pack(pady=15)\n",
    "\n",
    "update_display()\n",
    "entry.focus()\n",
    "root.mainloop()\n"
   ]
  },
  {
   "cell_type": "code",
   "execution_count": null,
   "id": "44e44286-eeb4-4e60-8652-8c286c32cc85",
   "metadata": {},
   "outputs": [],
   "source": []
  },
  {
   "cell_type": "code",
   "execution_count": null,
   "id": "0d919b38-b4cf-46a0-a532-57f0b645b4b2",
   "metadata": {},
   "outputs": [],
   "source": []
  }
 ],
 "metadata": {
  "kernelspec": {
   "display_name": "Python 3 (ipykernel)",
   "language": "python",
   "name": "python3"
  },
  "language_info": {
   "codemirror_mode": {
    "name": "ipython",
    "version": 3
   },
   "file_extension": ".py",
   "mimetype": "text/x-python",
   "name": "python",
   "nbconvert_exporter": "python",
   "pygments_lexer": "ipython3",
   "version": "3.12.7"
  }
 },
 "nbformat": 4,
 "nbformat_minor": 5
}
