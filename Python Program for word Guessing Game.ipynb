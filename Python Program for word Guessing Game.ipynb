{
 "cells": [
  {
   "cell_type": "markdown",
   "id": "8dac33e3-f745-462c-9b82-9b2a5157e334",
   "metadata": {},
   "source": [
    "Word guessing Game in Python"
   ]
  },
  {
   "cell_type": "code",
   "execution_count": 2,
   "id": "0e47692a-fece-4954-b771-e478043eec7d",
   "metadata": {},
   "outputs": [
    {
     "name": "stdin",
     "output_type": "stream",
     "text": [
      "What is your name?  Abc\n"
     ]
    },
    {
     "name": "stdout",
     "output_type": "stream",
     "text": [
      "Good Luck !  Abc\n",
      "Guess the characters\n",
      "_\n",
      "_\n",
      "_\n",
      "_\n",
      "_\n",
      "\n"
     ]
    },
    {
     "name": "stdin",
     "output_type": "stream",
     "text": [
      "guess a character: a\n"
     ]
    },
    {
     "name": "stdout",
     "output_type": "stream",
     "text": [
      "_\n",
      "_\n",
      "a _\n",
      "_\n",
      "\n"
     ]
    },
    {
     "name": "stdin",
     "output_type": "stream",
     "text": [
      "guess a character: v\n"
     ]
    },
    {
     "name": "stdout",
     "output_type": "stream",
     "text": [
      "Wrong\n",
      "You have 11 more guesses\n",
      "_\n",
      "_\n",
      "a _\n",
      "_\n",
      "\n"
     ]
    },
    {
     "name": "stdin",
     "output_type": "stream",
     "text": [
      "guess a character: i\n"
     ]
    },
    {
     "name": "stdout",
     "output_type": "stream",
     "text": [
      "Wrong\n",
      "You have 10 more guesses\n",
      "_\n",
      "_\n",
      "a _\n",
      "_\n",
      "\n"
     ]
    },
    {
     "name": "stdin",
     "output_type": "stream",
     "text": [
      "guess a character: o\n"
     ]
    },
    {
     "name": "stdout",
     "output_type": "stream",
     "text": [
      "_\n",
      "o a _\n",
      "_\n",
      "\n"
     ]
    },
    {
     "name": "stdin",
     "output_type": "stream",
     "text": [
      "guess a character: u\n"
     ]
    },
    {
     "name": "stdout",
     "output_type": "stream",
     "text": [
      "Wrong\n",
      "You have 9 more guesses\n",
      "_\n",
      "o a _\n",
      "_\n",
      "\n"
     ]
    },
    {
     "name": "stdin",
     "output_type": "stream",
     "text": [
      "guess a character: b\n"
     ]
    },
    {
     "name": "stdout",
     "output_type": "stream",
     "text": [
      "b o a _\n",
      "_\n",
      "\n"
     ]
    },
    {
     "name": "stdin",
     "output_type": "stream",
     "text": [
      "guess a character: d\n"
     ]
    },
    {
     "name": "stdout",
     "output_type": "stream",
     "text": [
      "b o a _\n",
      "d \n"
     ]
    },
    {
     "name": "stdin",
     "output_type": "stream",
     "text": [
      "guess a character: r\n"
     ]
    },
    {
     "name": "stdout",
     "output_type": "stream",
     "text": [
      "b o a r d You Win\n",
      "The word is:  board\n"
     ]
    }
   ],
   "source": [
    "import random\n",
    "\n",
    "name = input(\"What is your name? \")\n",
    "\n",
    "print(\"Good Luck ! \", name)\n",
    "\n",
    "words = ['rainbow', 'computer', 'science', 'programming',\n",
    "         'python', 'mathematics', 'player', 'condition',\n",
    "         'reverse', 'water', 'board']\n",
    "\n",
    "word = random.choice(words)\n",
    "\n",
    "print(\"Guess the characters\")\n",
    "\n",
    "guesses = ''\n",
    "turns = 12\n",
    "\n",
    "while turns > 0:\n",
    "\n",
    "    failed = 0\n",
    "\n",
    "    for char in word:\n",
    "\n",
    "        if char in guesses:\n",
    "            print(char, end=\" \")\n",
    "\n",
    "        else:\n",
    "            print(\"_\")\n",
    "            failed += 1\n",
    "\n",
    "    if failed == 0:\n",
    "        print(\"You Win\")\n",
    "        print(\"The word is: \", word)\n",
    "        break\n",
    "\n",
    "    print()\n",
    "    guess = input(\"guess a character:\")\n",
    "\n",
    "    guesses += guess\n",
    "\n",
    "    if guess not in word:\n",
    "\n",
    "        turns -= 1\n",
    "        print(\"Wrong\")\n",
    "        print(\"You have\", + turns, 'more guesses')\n",
    "\n",
    "        if turns == 0:\n",
    "            print(\"You Loose\")"
   ]
  },
  {
   "cell_type": "code",
   "execution_count": 1,
   "id": "26058529-e1b3-40ca-a16f-fb6fb4fb83e4",
   "metadata": {},
   "outputs": [],
   "source": [
    "import tkinter as tk\n",
    "from tkinter import messagebox\n",
    "import random\n",
    "\n",
    "# Word list\n",
    "words = ['rainbow', 'computer', 'science', 'programming','python', 'mathematics','condition',\n",
    "         'reverse', 'water', 'board',]\n",
    "word = random.choice(words)\n",
    "guesses = ''\n",
    "turns = 12\n",
    "\n",
    "# Update the word display\n",
    "def update_display():\n",
    "    display_word = ''\n",
    "    failed = 0\n",
    "    for char in word:\n",
    "        if char in guesses:\n",
    "            display_word += f\"{char} \"\n",
    "        else:\n",
    "            display_word += \"_ \"\n",
    "            failed += 1\n",
    "\n",
    "    word_label.config(text=display_word.strip(), fg=\"#FFFCF2\", bg=\"#252422\")\n",
    "\n",
    "    if failed == 0:\n",
    "        messagebox.showinfo(\"🎉 You Win!\", f\"The word was: {word}\")\n",
    "        root.destroy()\n",
    "    elif turns == 0:\n",
    "        messagebox.showinfo(\"💀 Game Over\", f\"You ran out of guesses.\\nThe word was: {word}\")\n",
    "        root.destroy()\n",
    "\n",
    "# Handle guess\n",
    "def guess_char():\n",
    "    global guesses, turns\n",
    "    ch = entry.get().lower()\n",
    "    entry.delete(0, tk.END)\n",
    "\n",
    "    if ch and ch.isalpha() and ch not in guesses:\n",
    "        guesses += ch\n",
    "        if ch not in word:\n",
    "            turns -= 1\n",
    "            turns_label.config(text=f\"Turns left: {turns}\", fg=\"#EB5E28\")\n",
    "        else:\n",
    "            turns_label.config(fg=\"#00A896\")\n",
    "\n",
    "        update_display()\n",
    "\n",
    "# GUI setup\n",
    "root = tk.Tk()\n",
    "root.title(\"🌟 Word Guessing Game\")\n",
    "root.geometry(\"400x400\")\n",
    "root.config(bg=\"#403D39\")  # Background\n",
    "\n",
    "title = tk.Label(root, text=\"🎯 Guess the Word!\", font=(\"Arial Black\", 20), bg=\"#403D39\", fg=\"#FFFCF2\")\n",
    "title.pack(pady=15)\n",
    "\n",
    "word_label = tk.Label(root, text=\"\", font=(\"Consolas\", 30, \"bold\"), bg=\"#403D39\", fg=\"#FFFCF2\")\n",
    "word_label.pack(pady=20)\n",
    "\n",
    "entry = tk.Entry(root, font=(\"Arial\", 18), justify='center')\n",
    "entry.pack()\n",
    "\n",
    "guess_btn = tk.Button(root, text=\"Guess\", command=guess_char, font=(\"Arial\", 14), bg=\"#FFB703\", fg=\"#000\")\n",
    "guess_btn.pack(pady=10)\n",
    "\n",
    "turns_label = tk.Label(root, text=f\"Turns left: {turns}\", font=(\"Arial\", 14, \"bold\"), bg=\"#403D39\", fg=\"#00A896\")\n",
    "turns_label.pack(pady=10)\n",
    "\n",
    "update_display()\n",
    "entry.focus()\n",
    "\n",
    "root.mainloop()\n"
   ]
  },
  {
   "cell_type": "code",
   "execution_count": null,
   "id": "75255b52-cc36-41a2-b76d-eafa54c2ce5d",
   "metadata": {},
   "outputs": [],
   "source": []
  }
 ],
 "metadata": {
  "kernelspec": {
   "display_name": "Python 3 (ipykernel)",
   "language": "python",
   "name": "python3"
  },
  "language_info": {
   "codemirror_mode": {
    "name": "ipython",
    "version": 3
   },
   "file_extension": ".py",
   "mimetype": "text/x-python",
   "name": "python",
   "nbconvert_exporter": "python",
   "pygments_lexer": "ipython3",
   "version": "3.12.7"
  }
 },
 "nbformat": 4,
 "nbformat_minor": 5
}
