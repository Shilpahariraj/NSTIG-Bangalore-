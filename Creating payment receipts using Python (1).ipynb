{
 "cells": [
  {
   "cell_type": "markdown",
   "id": "3472f359-ef5f-4aa8-b797-cdbf20de21ed",
   "metadata": {},
   "source": [
    "Creating payment receipts using Python"
   ]
  },
  {
   "cell_type": "code",
   "execution_count": 2,
   "id": "9b11d935-e146-4716-8b04-621d189119e8",
   "metadata": {},
   "outputs": [
    {
     "name": "stdout",
     "output_type": "stream",
     "text": [
      "Requirement already satisfied: reportlab in c:\\users\\prate\\anaconda3\\lib\\site-packages (4.4.0)\n",
      "Requirement already satisfied: pillow>=9.0.0 in c:\\users\\prate\\anaconda3\\lib\\site-packages (from reportlab) (10.4.0)\n",
      "Requirement already satisfied: chardet in c:\\users\\prate\\anaconda3\\lib\\site-packages (from reportlab) (4.0.0)\n",
      "Note: you may need to restart the kernel to use updated packages.\n"
     ]
    }
   ],
   "source": [
    "pip install reportlab"
   ]
  },
  {
   "cell_type": "code",
   "execution_count": 3,
   "id": "d7d92bb4-5705-4da8-9b27-5f552de4976e",
   "metadata": {},
   "outputs": [
    {
     "name": "stdout",
     "output_type": "stream",
     "text": [
      "Requirement already satisfied: pillow in c:\\users\\prate\\anaconda3\\lib\\site-packages (10.4.0)\n",
      "Note: you may need to restart the kernel to use updated packages.\n"
     ]
    }
   ],
   "source": [
    "pip install pillow\n"
   ]
  },
  {
   "cell_type": "code",
   "execution_count": null,
   "id": "b17b28df-22ba-4547-8a8f-ebaf65147a04",
   "metadata": {},
   "outputs": [],
   "source": [
    "import tkinter as tk\n",
    "from tkinter import messagebox\n",
    "from PIL import Image, ImageDraw, ImageFont\n",
    "import datetime\n",
    "import os\n",
    "\n",
    "entries = []\n",
    "\n",
    "def add_entry():\n",
    "    name = name_entry.get().strip()\n",
    "    subscription = subscription_entry.get().strip()\n",
    "    price = price_entry.get().strip()\n",
    "\n",
    "    if not (name and subscription and price):\n",
    "        messagebox.showwarning(\"Missing Info\", \"Please fill in all fields.\")\n",
    "        return\n",
    "\n",
    "    entries.append((datetime.date.today().strftime(\"%d/%m/%Y\"), name, subscription, price))\n",
    "    entry_list.insert(tk.END, f\"{name:<20} | {subscription:<15} | ₹{price}\")\n",
    "    name_entry.delete(0, tk.END)\n",
    "    subscription_entry.delete(0, tk.END)\n",
    "    price_entry.delete(0, tk.END)\n",
    "\n",
    "def generate_bill_image():\n",
    "    if not entries:\n",
    "        messagebox.showwarning(\"Empty\", \"No entries to generate bill.\")\n",
    "        return\n",
    "\n",
    "    width, height = 650, 100 + len(entries) * 40 + 80\n",
    "    img = Image.new(\"RGB\", (width, height), color=\"#F5F7FA\")\n",
    "    draw = ImageDraw.Draw(img)\n",
    "\n",
    "    try:\n",
    "        font_header = ImageFont.truetype(\"arialbd.ttf\", 26)\n",
    "        font_text = ImageFont.truetype(\"arial.ttf\", 18)\n",
    "    except:\n",
    "        font_header = ImageFont.load_default()\n",
    "        font_text = ImageFont.load_default()\n",
    "\n",
    "    draw.text((180, 20), \"prateek Billing Statement\", fill=\"#2C3E50\", font=font_header)\n",
    "    y = 80\n",
    "    total = 0\n",
    "\n",
    "    draw.rectangle((20, y, width - 20, y + 30), fill=\"#DDE3EC\")\n",
    "    draw.text((25, y + 5), f\"{'Date':<15}{'Name':<25}{'Subscription':<20}{'Price (Rs.)'}\", fill=\"#2C3E50\", font=font_text)\n",
    "\n",
    "    y += 40\n",
    "    for row in entries:\n",
    "        draw.text((25, y), f\"{row[0]:<15}{row[1]:<25}{row[2]:<20}{row[3]}\", fill=\"#34495E\", font=font_text)\n",
    "        y += 35\n",
    "        try:\n",
    "            total += float(row[3].replace(\",\", \"\").replace(\"₹\", \"\").replace(\"/-\", \"\"))\n",
    "        except:\n",
    "            pass\n",
    "\n",
    "    draw.line((20, y, width - 20, y), fill=\"#BDC3C7\", width=1)\n",
    "    y += 10\n",
    "    draw.text((420, y), f\"Total: ₹{total:.2f}\", fill=\"#27AE60\", font=font_text)\n",
    "\n",
    "    img_path = \"Prateek_bill.png\"\n",
    "    img.save(img_path)\n",
    "    os.startfile(img_path)  # Windows only\n",
    "\n",
    "    messagebox.showinfo(\"Success\", \"Bill image generated successfully!\")\n",
    "\n",
    "# GUI Setup\n",
    "root = tk.Tk()\n",
    "root.title(\"pramesh | Professional Bill Generator\")\n",
    "root.geometry(\"750x520\")\n",
    "root.configure(bg=\"#F5F7FA\")\n",
    "\n",
    "font_label = (\"Segoe UI\", 11)\n",
    "font_entry = (\"Segoe UI\", 10)\n",
    "font_button = (\"Segoe UI\", 10, \"bold\")\n",
    "\n",
    "# Labels\n",
    "tk.Label(root, text=\"Name\", bg=\"#F5F7FA\", fg=\"#2C3E50\", font=font_label).grid(row=0, column=0, padx=10, pady=10)\n",
    "tk.Label(root, text=\"Subscription\", bg=\"#F5F7FA\", fg=\"#2C3E50\", font=font_label).grid(row=0, column=1, padx=10)\n",
    "tk.Label(root, text=\"Price (Rs.)\", bg=\"#F5F7FA\", fg=\"#2C3E50\", font=font_label).grid(row=0, column=2, padx=10)\n",
    "\n",
    "# Entry Fields\n",
    "name_entry = tk.Entry(root, font=font_entry, width=20)\n",
    "subscription_entry = tk.Entry(root, font=font_entry, width=20)\n",
    "price_entry = tk.Entry(root, font=font_entry, width=15)\n",
    "\n",
    "name_entry.grid(row=1, column=0, padx=10)\n",
    "subscription_entry.grid(row=1, column=1, padx=10)\n",
    "price_entry.grid(row=1, column=2, padx=10)\n",
    "\n",
    "# Add Entry Button\n",
    "tk.Button(root, text=\"Add Entry\", command=add_entry, bg=\"#2980B9\", fg=\"white\",\n",
    "          font=font_button, relief=\"flat\", padx=10, pady=3).grid(row=1, column=3, padx=10)\n",
    "\n",
    "# Entry Listbox\n",
    "entry_list = tk.Listbox(root, width=85, height=15, font=(\"Courier New\", 10), bd=1, relief=\"solid\", bg=\"white\")\n",
    "entry_list.grid(row=2, column=0, columnspan=4, pady=20, padx=10)\n",
    "\n",
    "# Generate Bill Button\n",
    "tk.Button(root, text=\"Generate Bill Image\", command=generate_bill_image,\n",
    "          bg=\"#27AE60\", fg=\"white\", font=(\"Segoe UI\", 12, \"bold\"),\n",
    "          relief=\"flat\", padx=10, pady=5).grid(row=3, column=0, columnspan=4, pady=15)\n",
    "\n",
    "root.mainloop()\n"
   ]
  },
  {
   "cell_type": "code",
   "execution_count": null,
   "id": "1b6e5b2a-20aa-49f9-b38b-f28b06d44d63",
   "metadata": {},
   "outputs": [],
   "source": []
  },
  {
   "cell_type": "code",
   "execution_count": null,
   "id": "17c1e883-896e-4d42-9ec5-51196886e3b2",
   "metadata": {},
   "outputs": [],
   "source": []
  },
  {
   "cell_type": "code",
   "execution_count": null,
   "id": "2be2f278-7e76-40fc-b32e-68c7cd1eb5ba",
   "metadata": {},
   "outputs": [],
   "source": []
  }
 ],
 "metadata": {
  "kernelspec": {
   "display_name": "Python 3 (ipykernel)",
   "language": "python",
   "name": "python3"
  },
  "language_info": {
   "codemirror_mode": {
    "name": "ipython",
    "version": 3
   },
   "file_extension": ".py",
   "mimetype": "text/x-python",
   "name": "python",
   "nbconvert_exporter": "python",
   "pygments_lexer": "ipython3",
   "version": "3.12.7"
  }
 },
 "nbformat": 4,
 "nbformat_minor": 5
}
