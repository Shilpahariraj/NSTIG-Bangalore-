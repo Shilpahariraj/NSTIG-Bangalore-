{
 "cells": [
  {
   "cell_type": "markdown",
   "id": "6e7a41e0-f254-4235-8f34-19e98fdc270e",
   "metadata": {},
   "source": [
    " Linear Regression"
   ]
  },
  {
   "cell_type": "markdown",
   "id": "3dc5f07e-22f1-4971-8cdf-7fa8a055d4f6",
   "metadata": {},
   "source": [
    "Let's use a simple dataset: Predict student scores based on study hours.¶\n",
    "Simple/Univariate linear regression model: y_pred = wx + b\n",
    "\n",
    "where:\n",
    "\n",
    "y_pred is the value predicted by the model\n",
    "w is the weight, b is the bias (model parameters)\n",
    "x is the feature\n",
    "Multiple linear regression model: y_pred = w1.x1 + w2.x2 + w3.x3 + ....+wn.xn + b\n",
    "\n",
    "where:\n",
    "\n",
    "y_pred is the value predicted by the model\n",
    "x1,x2,..,xn are the features\n",
    "w1,w2,....,wn are the weights\n",
    "b is the bias"
   ]
  },
  {
   "cell_type": "code",
   "execution_count": 3,
   "id": "6a46af6e-51ad-43e9-8c9c-2e78a07fc56f",
   "metadata": {},
   "outputs": [],
   "source": [
    "import numpy as np\n",
    "import pandas as pd\n",
    "import matplotlib.pyplot as plt\n",
    "import seaborn as sns\n",
    "from sklearn.model_selection import train_test_split\n",
    "from sklearn.linear_model import LinearRegression, LogisticRegression\n",
    "from sklearn.metrics import mean_absolute_error, mean_squared_error, r2_score, accuracy_score, precision_score, recall_score, confusion_matrix, classification_report\n",
    "\n",
    "# Set style\n",
    "sns.set(style=\"whitegrid\")"
   ]
  },
  {
   "cell_type": "code",
   "execution_count": 4,
   "id": "8a307708-b5bc-4546-b498-6316ad5a2866",
   "metadata": {},
   "outputs": [
    {
     "data": {
      "image/png": "[encoded data removed]",
      "text/plain": [
       "<Figure size 640x480 with 1 Axes>"
      ]
     },
     "metadata": {},
     "output_type": "display_data"
    }
   ],
   "source": [
    "# Create Dataset\n",
    "# scores are out of hundred\n",
    "data = {\n",
    "    'Hours': [1.5, 2.0, 2.5, 3.0, 3.5, 4.5, 5.0, 5.5, 6.0, 6.5, 7.0, 7.5, 8.0, 8.5, 9.0],\n",
    "    'Scores': [20, 22, 24, 33, 35, 45, 49, 52, 58, 62, 65, 69, 75, 78, 85]\n",
    "}\n",
    "df = pd.DataFrame(data)\n",
    "\n",
    "# Visualize\n",
    "df.plot(x='Hours', y='Scores', style='o')\n",
    "plt.title('Hours vs Score')\n",
    "plt.xlabel('Hours Studied')\n",
    "plt.ylabel('Score')\n",
    "plt.show()\n",
    "\n",
    "# Split data\n",
    "X = df[['Hours']]\n",
    "y = df['Scores']\n",
    "X_train, X_test, y_train, y_test = train_test_split(X, y, test_size=0.2, random_state=42)\n",
    "\n",
    "# Create Linear Regression model\n",
    "lin_reg = LinearRegression()\n",
    "lin_reg.fit(X_train, y_train)\n",
    "\n",
    "# Predict\n",
    "y_pred = lin_reg.predict(X_test)"
   ]
  },
  {
   "cell_type": "markdown",
   "id": "23b5cb2c-12c2-45ea-94f3-291a28c8060d",
   "metadata": {},
   "source": [
    "Evaluation Metrics: MAE, MSE, and R² Score¶\n",
    "🧮 1. Mean Absolute Error (MAE)\n",
    "Formula: MAE = (1/n) * Σ|yᵢ - ŷᵢ|\n",
    "\n",
    "Where:\n",
    "\n",
    "yᵢ = Actual value\n",
    "ŷᵢ = Predicted value\n",
    "n = Number of samples\n",
    "Interpretation:\n",
    "\n",
    "MAE calculates the average of the absolute errors, providing a straightforward measure of model performance.\n",
    "It's in the same units as the target variable, making it easy to interpret.\n",
    "When to use:\n",
    "\n",
    "MAE is preferred when you want to minimize the impact of outliers. Since it does not square the errors, it is less sensitive to larger errors compared to MSE.\n",
    " 2. Mean Squared Error (MSE)¶\n",
    "Formula: MSE = (1/n) * Σ(yᵢ - ŷᵢ)²\n",
    "\n",
    "Where:\n",
    "\n",
    "yᵢ = Actual value\n",
    "ŷᵢ = Predicted value\n",
    "n = Number of samples\n",
    "Interpretation:\n",
    "\n",
    "MSE penalizes large errors more heavily because the differences are squared.\n",
    "A lower MSE value indicates a better fit of the model to the data.\n",
    "However, since it squares the errors, the units of MSE are the square of the target variable, which can make interpretation less straightforward.\n",
    "When to use:\n",
    "\n",
    "MSE is preferred when you want to punish large errors more. It's useful when the application has significant costs associated with large errors, such as in financial models or when high accuracy is critical.\n",
    "3. R² Score (Coefficient of Determination)¶\n",
    "Formula: R² = 1 - (SS_res / SS_tot)\n",
    "\n",
    "Where:\n",
    "\n",
    "SS_res = Sum of squared residuals, i.e., Σ(yᵢ - ŷᵢ)²\n",
    "SS_tot = Total sum of squares, i.e., Σ(yᵢ - ȳ)², where ȳ is the mean of actual values.\n",
    "Interpretation:\n",
    "\n",
    "R² represents how much of the variance in the target variable is explained by the model.\n",
    "R² = 1: The model perfectly predicts the target.\n",
    "R² = 0: The model does no better than predicting the mean value of the target.\n",
    "Negative R²: The model performs worse than just predicting the mean.\n",
    "When to use:\n",
    "\n",
    "R² is best used when you want to measure how much of the variability in the target variable your model is capturing. It's a good general indicator of model performance, especially in linear regression models.\n",
    " When to Use Each Metric?¶\n",
    "MAE: Use when you want a metric that is easy to interpret and resistant to outliers. It gives you the average error, making it a good choice for situations where each error has equal importance.\n",
    "\n",
    "MSE: Use when you want to penalize large errors more. It’s ideal when large errors are particularly undesirable and need to be corrected. However, it’s less intuitive due to the squared units.\n",
    "\n",
    "R²: Use when you want a single value that shows how well your model explains the variance in the target variable. It's useful for linear models, but not recommended when comparing models with different numbers of features or when the data has high variance."
   ]
  },
  {
   "cell_type": "code",
   "execution_count": 3,
   "id": "387fd5f2-90c9-4c29-abd4-269d3e9957f0",
   "metadata": {},
   "outputs": [
    {
     "name": "stdout",
     "output_type": "stream",
     "text": [
      "Mean Absolute Error: 1.424242424242428\n",
      "Mean Squared Error: 2.784830554061332\n",
      "R2 Score: 0.9940523315171922\n"
     ]
    }
   ],
   "source": [
    "print(\"Mean Absolute Error:\", mean_absolute_error(y_test, y_pred))\n",
    "print(\"Mean Squared Error:\", mean_squared_error(y_test, y_pred))\n",
    "print(\"R2 Score:\", r2_score(y_test, y_pred))"
   ]
  },
  {
   "cell_type": "markdown",
   "id": "5bc1b597-85ad-4cf1-9658-96f530f96136",
   "metadata": {},
   "source": [
    "What is the Cost Function?¶\n",
    "=========================\n",
    "The cost function measures how bad our model's predictions are compared to the actual results. For Linear Regression, we use Mean Squared Error (MSE):\n",
    "\n",
    "Cost = J = (1/n) * sum( (y_pred - y_true)^2 )\n",
    "\n",
    "J = (1/n) * sum( (wx+b) - (y_true)^2)\n",
    "\n",
    "The goal is to minimize this cost!"
   ]
  },
  {
   "cell_type": "markdown",
   "id": "727d4848-1919-4b55-87cb-77bee2a7908a",
   "metadata": {},
   "source": [
    "What is Gradient Descent?¶\n",
    "=========================\n",
    "Gradient Descent is an optimization algorithm. It adjusts model parameters (like weights) to minimize the cost function step-by-step.\n",
    "\n",
    "Imagine trying to find the bottom of a valley (lowest error) by taking small steps downhill.\n",
    "\n",
    "The update rule for parameters ( \\theta ) is:\n",
    "\n",
    "θ := θ - α * (∂J(θ)/∂θ)\n",
    "Where:\n",
    "\n",
    "θ = model parameters (like weights or biases (w and b in this case))\n",
    "α = learning rate (controls step size)\n",
    "J(θ) = cost function\n",
    "∂J(θ)/∂θ = derivative of the cost with respect to θ"
   ]
  },
  {
   "cell_type": "code",
   "execution_count": null,
   "id": "3ca36009-07e8-40a0-93b0-6a2bd00fbdfb",
   "metadata": {},
   "outputs": [],
   "source": []
  }
 ],
 "metadata": {
  "kernelspec": {
   "display_name": "Python 3 (ipykernel)",
   "language": "python",
   "name": "python3"
  },
  "language_info": {
   "codemirror_mode": {
    "name": "ipython",
    "version": 3
   },
   "file_extension": ".py",
   "mimetype": "text/x-python",
   "name": "python",
   "nbconvert_exporter": "python",
   "pygments_lexer": "ipython3",
   "version": "3.12.7"
  }
 },
 "nbformat": 4,
 "nbformat_minor": 5
}
